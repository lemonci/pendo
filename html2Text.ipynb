{
 "cells": [
  {
   "cell_type": "code",
   "execution_count": null,
   "metadata": {},
   "outputs": [],
   "source": [
    "import codecs\n",
    "import re\n",
    "import os.path"
   ]
  },
  {
   "cell_type": "markdown",
   "metadata": {},
   "source": [
    "# define functions"
   ]
  },
  {
   "cell_type": "code",
   "execution_count": null,
   "metadata": {},
   "outputs": [],
   "source": [
    "def extractpendo(start, end):\n",
    "    # set the file scope\n",
    "    for i in range(start,end):\n",
    "        if os.path.isfile(str(i)+'.html'):\n",
    " \n",
    "            fileprocess(i)\n",
    "       \n",
    "        else:\n",
    "            print ('Sample number '+str(i) + ' does NOT exist')"
   ]
  },
  {
   "cell_type": "code",
   "execution_count": null,
   "metadata": {},
   "outputs": [],
   "source": [
    "def fileprocess(filenumber):\n",
    "    \n",
    "    # read the html file\n",
    "    page = codecs.open(str(filenumber)+'.html','r','utf-8').readlines()\n",
    "\n",
    "    for line in page:\n",
    "\n",
    "        ifdata = re.findall(r\"\"\"\\[\\[\\[\"\"\",line)\n",
    "\n",
    "        if ifdata:\n",
    "            file = open(str(filenumber)+'.txt','w') \n",
    " \n",
    "            file.write(line) \n",
    "\n",
    "            file.close() \n",
    "            break"
   ]
  },
  {
   "cell_type": "markdown",
   "metadata": {},
   "source": [
    "# Use"
   ]
  },
  {
   "cell_type": "code",
   "execution_count": null,
   "metadata": {},
   "outputs": [],
   "source": [
    "extractpendo(585,586)"
   ]
  },
  {
   "cell_type": "markdown",
   "metadata": {},
   "source": [
    "# read files generated"
   ]
  },
  {
   "cell_type": "code",
   "execution_count": null,
   "metadata": {},
   "outputs": [],
   "source": [
    "# open the file\n",
    "file = open(str(585)+'.txt','r') \n",
    "\n",
    "# get the string\n",
    "pendodata = file.read() \n",
    "\n",
    "# then close the file\n",
    "file.close() \n"
   ]
  },
  {
   "cell_type": "code",
   "execution_count": null,
   "metadata": {},
   "outputs": [],
   "source": []
  }
 ],
 "metadata": {
  "kernelspec": {
   "display_name": "Python 3",
   "language": "python",
   "name": "python3"
  },
  "language_info": {
   "codemirror_mode": {
    "name": "ipython",
    "version": 3
   },
   "file_extension": ".py",
   "mimetype": "text/x-python",
   "name": "python",
   "nbconvert_exporter": "python",
   "pygments_lexer": "ipython3",
   "version": "3.6.6"
  }
 },
 "nbformat": 4,
 "nbformat_minor": 2
}
